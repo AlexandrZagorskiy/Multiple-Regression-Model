{
  "nbformat": 4,
  "nbformat_minor": 0,
  "metadata": {
    "colab": {
      "name": "HID.ipynb",
      "provenance": [],
      "authorship_tag": "ABX9TyM0R6RM7gGqRK4iP5hjyHuN",
      "include_colab_link": true
    },
    "kernelspec": {
      "name": "python3",
      "display_name": "Python 3"
    },
    "accelerator": "GPU"
  },
  "cells": [
    {
      "cell_type": "markdown",
      "metadata": {
        "id": "view-in-github",
        "colab_type": "text"
      },
      "source": [
        "<a href=\"https://colab.research.google.com/github/Finger228/Health-Insurance-Dataset/blob/master/HID.ipynb\" target=\"_parent\"><img src=\"https://colab.research.google.com/assets/colab-badge.svg\" alt=\"Open In Colab\"/></a>"
      ]
    },
    {
      "cell_type": "markdown",
      "metadata": {
        "id": "kHJMNnomhpf6",
        "colab_type": "text"
      },
      "source": [
        "Health Insurance Dataset\n",
        "\n",
        "Task:\n",
        "- Build a model that predicts \"charges\" for a given person based on their features.\n",
        "- Evaluate the quality of your model.\n",
        "- Identify the factors with the highest impact.\n",
        "\n",
        "Expected result - link to a GitHub repo with:\n",
        "- Code for the solution (any programming language, Python or R preferred).\n",
        "- Brief summary of the solution*: what did you do, which steps did you make, how to interpret the results."
      ]
    },
    {
      "cell_type": "markdown",
      "metadata": {
        "id": "dah9xiD9WOIY",
        "colab_type": "text"
      },
      "source": [
        "# **Preparing data**"
      ]
    },
    {
      "cell_type": "markdown",
      "metadata": {
        "id": "i1LN5-RFWy10",
        "colab_type": "text"
      },
      "source": [
        "### download data from github repo"
      ]
    },
    {
      "cell_type": "code",
      "metadata": {
        "id": "h5q2C7BZgDMd",
        "colab_type": "code",
        "outputId": "1d3c764f-5b75-411d-e5cd-a4a3c3a4d006",
        "colab": {
          "base_uri": "https://localhost:8080/",
          "height": 204
        }
      },
      "source": [
        "import pandas as pd\n",
        "import matplotlib.pyplot as plt\n",
        "import numpy as np\n",
        "\n",
        "url = 'https://raw.githubusercontent.com/Finger228/Health-Insurance-Dataset/master/insurance.csv'\n",
        "data = pd.read_csv(url)\n",
        "data.head()"
      ],
      "execution_count": 119,
      "outputs": [
        {
          "output_type": "execute_result",
          "data": {
            "text/html": [
              "<div>\n",
              "<style scoped>\n",
              "    .dataframe tbody tr th:only-of-type {\n",
              "        vertical-align: middle;\n",
              "    }\n",
              "\n",
              "    .dataframe tbody tr th {\n",
              "        vertical-align: top;\n",
              "    }\n",
              "\n",
              "    .dataframe thead th {\n",
              "        text-align: right;\n",
              "    }\n",
              "</style>\n",
              "<table border=\"1\" class=\"dataframe\">\n",
              "  <thead>\n",
              "    <tr style=\"text-align: right;\">\n",
              "      <th></th>\n",
              "      <th>age</th>\n",
              "      <th>sex</th>\n",
              "      <th>bmi</th>\n",
              "      <th>children</th>\n",
              "      <th>smoker</th>\n",
              "      <th>region</th>\n",
              "      <th>charges</th>\n",
              "    </tr>\n",
              "  </thead>\n",
              "  <tbody>\n",
              "    <tr>\n",
              "      <th>0</th>\n",
              "      <td>19</td>\n",
              "      <td>female</td>\n",
              "      <td>27.900</td>\n",
              "      <td>0</td>\n",
              "      <td>yes</td>\n",
              "      <td>southwest</td>\n",
              "      <td>16884.92400</td>\n",
              "    </tr>\n",
              "    <tr>\n",
              "      <th>1</th>\n",
              "      <td>18</td>\n",
              "      <td>male</td>\n",
              "      <td>33.770</td>\n",
              "      <td>1</td>\n",
              "      <td>no</td>\n",
              "      <td>southeast</td>\n",
              "      <td>1725.55230</td>\n",
              "    </tr>\n",
              "    <tr>\n",
              "      <th>2</th>\n",
              "      <td>28</td>\n",
              "      <td>male</td>\n",
              "      <td>33.000</td>\n",
              "      <td>3</td>\n",
              "      <td>no</td>\n",
              "      <td>southeast</td>\n",
              "      <td>4449.46200</td>\n",
              "    </tr>\n",
              "    <tr>\n",
              "      <th>3</th>\n",
              "      <td>33</td>\n",
              "      <td>male</td>\n",
              "      <td>22.705</td>\n",
              "      <td>0</td>\n",
              "      <td>no</td>\n",
              "      <td>northwest</td>\n",
              "      <td>21984.47061</td>\n",
              "    </tr>\n",
              "    <tr>\n",
              "      <th>4</th>\n",
              "      <td>32</td>\n",
              "      <td>male</td>\n",
              "      <td>28.880</td>\n",
              "      <td>0</td>\n",
              "      <td>no</td>\n",
              "      <td>northwest</td>\n",
              "      <td>3866.85520</td>\n",
              "    </tr>\n",
              "  </tbody>\n",
              "</table>\n",
              "</div>"
            ],
            "text/plain": [
              "   age     sex     bmi  children smoker     region      charges\n",
              "0   19  female  27.900         0    yes  southwest  16884.92400\n",
              "1   18    male  33.770         1     no  southeast   1725.55230\n",
              "2   28    male  33.000         3     no  southeast   4449.46200\n",
              "3   33    male  22.705         0     no  northwest  21984.47061\n",
              "4   32    male  28.880         0     no  northwest   3866.85520"
            ]
          },
          "metadata": {
            "tags": []
          },
          "execution_count": 119
        }
      ]
    },
    {
      "cell_type": "markdown",
      "metadata": {
        "id": "P0VnqHbQXDQI",
        "colab_type": "text"
      },
      "source": [
        "### preparing data"
      ]
    },
    {
      "cell_type": "code",
      "metadata": {
        "id": "Yb7A-pt9W_p1",
        "colab_type": "code",
        "colab": {
          "base_uri": "https://localhost:8080/",
          "height": 161
        },
        "outputId": "68187180-92ef-4c71-c81c-22f55c77bd1c"
      },
      "source": [
        "from sklearn.preprocessing import OneHotEncoder\n",
        "\n",
        "# checking for miss values\n",
        "print(data.isnull().sum())"
      ],
      "execution_count": 132,
      "outputs": [
        {
          "output_type": "stream",
          "text": [
            "age         0\n",
            "sex         0\n",
            "bmi         0\n",
            "children    0\n",
            "smoker      0\n",
            "region      0\n",
            "charges     0\n",
            "dtype: int64\n"
          ],
          "name": "stdout"
        }
      ]
    },
    {
      "cell_type": "code",
      "metadata": {
        "id": "mQMNzdWbBVBT",
        "colab_type": "code",
        "colab": {
          "base_uri": "https://localhost:8080/",
          "height": 540
        },
        "outputId": "b1ce3608-6cae-4dd5-ecb4-f5abc6c9682b"
      },
      "source": [
        "# convert strings to integers\n",
        "df = pd.get_dummies(data)\n",
        "\n",
        "# some data vizualizing\n",
        "plt.matshow(df.corr())\n",
        "plt.xticks(np.arange(12), df.columns, rotation=90)\n",
        "plt.yticks(np.arange(12), df.columns, rotation=0)\n",
        "plt.colorbar()\n",
        "plt.show()\n",
        "df.head()\n"
      ],
      "execution_count": 162,
      "outputs": [
        {
          "output_type": "display_data",
          "data": {
            "image/png": "[encoded data removed]",
            "text/plain": [
              "<Figure size 288x288 with 2 Axes>"
            ]
          },
          "metadata": {
            "tags": [],
            "needs_background": "light"
          }
        },
        {
          "output_type": "execute_result",
          "data": {
            "text/html": [
              "<div>\n",
              "<style scoped>\n",
              "    .dataframe tbody tr th:only-of-type {\n",
              "        vertical-align: middle;\n",
              "    }\n",
              "\n",
              "    .dataframe tbody tr th {\n",
              "        vertical-align: top;\n",
              "    }\n",
              "\n",
              "    .dataframe thead th {\n",
              "        text-align: right;\n",
              "    }\n",
              "</style>\n",
              "<table border=\"1\" class=\"dataframe\">\n",
              "  <thead>\n",
              "    <tr style=\"text-align: right;\">\n",
              "      <th></th>\n",
              "      <th>age</th>\n",
              "      <th>bmi</th>\n",
              "      <th>children</th>\n",
              "      <th>charges</th>\n",
              "      <th>sex_female</th>\n",
              "      <th>sex_male</th>\n",
              "      <th>smoker_no</th>\n",
              "      <th>smoker_yes</th>\n",
              "      <th>region_northeast</th>\n",
              "      <th>region_northwest</th>\n",
              "      <th>region_southeast</th>\n",
              "      <th>region_southwest</th>\n",
              "    </tr>\n",
              "  </thead>\n",
              "  <tbody>\n",
              "    <tr>\n",
              "      <th>0</th>\n",
              "      <td>19</td>\n",
              "      <td>27.900</td>\n",
              "      <td>0</td>\n",
              "      <td>16884.92400</td>\n",
              "      <td>1</td>\n",
              "      <td>0</td>\n",
              "      <td>0</td>\n",
              "      <td>1</td>\n",
              "      <td>0</td>\n",
              "      <td>0</td>\n",
              "      <td>0</td>\n",
              "      <td>1</td>\n",
              "    </tr>\n",
              "    <tr>\n",
              "      <th>1</th>\n",
              "      <td>18</td>\n",
              "      <td>33.770</td>\n",
              "      <td>1</td>\n",
              "      <td>1725.55230</td>\n",
              "      <td>0</td>\n",
              "      <td>1</td>\n",
              "      <td>1</td>\n",
              "      <td>0</td>\n",
              "      <td>0</td>\n",
              "      <td>0</td>\n",
              "      <td>1</td>\n",
              "      <td>0</td>\n",
              "    </tr>\n",
              "    <tr>\n",
              "      <th>2</th>\n",
              "      <td>28</td>\n",
              "      <td>33.000</td>\n",
              "      <td>3</td>\n",
              "      <td>4449.46200</td>\n",
              "      <td>0</td>\n",
              "      <td>1</td>\n",
              "      <td>1</td>\n",
              "      <td>0</td>\n",
              "      <td>0</td>\n",
              "      <td>0</td>\n",
              "      <td>1</td>\n",
              "      <td>0</td>\n",
              "    </tr>\n",
              "    <tr>\n",
              "      <th>3</th>\n",
              "      <td>33</td>\n",
              "      <td>22.705</td>\n",
              "      <td>0</td>\n",
              "      <td>21984.47061</td>\n",
              "      <td>0</td>\n",
              "      <td>1</td>\n",
              "      <td>1</td>\n",
              "      <td>0</td>\n",
              "      <td>0</td>\n",
              "      <td>1</td>\n",
              "      <td>0</td>\n",
              "      <td>0</td>\n",
              "    </tr>\n",
              "    <tr>\n",
              "      <th>4</th>\n",
              "      <td>32</td>\n",
              "      <td>28.880</td>\n",
              "      <td>0</td>\n",
              "      <td>3866.85520</td>\n",
              "      <td>0</td>\n",
              "      <td>1</td>\n",
              "      <td>1</td>\n",
              "      <td>0</td>\n",
              "      <td>0</td>\n",
              "      <td>1</td>\n",
              "      <td>0</td>\n",
              "      <td>0</td>\n",
              "    </tr>\n",
              "  </tbody>\n",
              "</table>\n",
              "</div>"
            ],
            "text/plain": [
              "   age     bmi  children  ...  region_northwest  region_southeast  region_southwest\n",
              "0   19  27.900         0  ...                 0                 0                 1\n",
              "1   18  33.770         1  ...                 0                 1                 0\n",
              "2   28  33.000         3  ...                 0                 1                 0\n",
              "3   33  22.705         0  ...                 1                 0                 0\n",
              "4   32  28.880         0  ...                 1                 0                 0\n",
              "\n",
              "[5 rows x 12 columns]"
            ]
          },
          "metadata": {
            "tags": []
          },
          "execution_count": 162
        }
      ]
    },
    {
      "cell_type": "markdown",
      "metadata": {
        "id": "uaUm7sOKXR0W",
        "colab_type": "text"
      },
      "source": [
        "### get train and test sets"
      ]
    },
    {
      "cell_type": "code",
      "metadata": {
        "id": "CYjzpCERskTa",
        "colab_type": "code",
        "colab": {}
      },
      "source": [
        "from sklearn.model_selection import train_test_split\n",
        "X, y = df.drop(columns=['charges']).values, df.iloc[:, 3].values\n",
        "X_train, X_test, y_train, y_test = train_test_split(X, y, test_size=0.2, random_state=42)\n"
      ],
      "execution_count": 0,
      "outputs": []
    },
    {
      "cell_type": "markdown",
      "metadata": {
        "id": "rV11M_nbeqFk",
        "colab_type": "text"
      },
      "source": [
        "### normalize data"
      ]
    },
    {
      "cell_type": "code",
      "metadata": {
        "id": "YLdEOT_MetwY",
        "colab_type": "code",
        "colab": {
          "base_uri": "https://localhost:8080/",
          "height": 143
        },
        "outputId": "474f30a0-6ecd-4864-b605-8472be1dfe7c"
      },
      "source": [
        "from sklearn.preprocessing import MinMaxScaler\n",
        "mms = MinMaxScaler()\n",
        "X_train_norm = mms.fit_transform(X_train)\n",
        "X_test_norm = mms.transform(X_test)\n",
        "# y_train_norm = mms.fit_transform(y_train)\n",
        "# y_test_norm = mms.transform(y_test)\n",
        "print(X_test_norm)\n"
      ],
      "execution_count": 164,
      "outputs": [
        {
          "output_type": "stream",
          "text": [
            "[[0.58695652 0.24791499 0.4        ... 0.         0.         0.        ]\n",
            " [0.39130435 0.37826204 0.         ... 1.         0.         0.        ]\n",
            " [1.         0.29391983 0.         ... 1.         0.         0.        ]\n",
            " ...\n",
            " [0.43478261 0.32458972 0.2        ... 0.         0.         0.        ]\n",
            " [0.7826087  0.84611246 0.         ... 0.         1.         0.        ]\n",
            " [0.7173913  0.49071832 0.2        ... 0.         0.         1.        ]]\n"
          ],
          "name": "stdout"
        }
      ]
    },
    {
      "cell_type": "markdown",
      "metadata": {
        "id": "IPM3JexxCU-A",
        "colab_type": "text"
      },
      "source": [
        "# **Predictive model**"
      ]
    },
    {
      "cell_type": "markdown",
      "metadata": {
        "id": "usXBN_f0CpTA",
        "colab_type": "text"
      },
      "source": [
        "### Standard linear regression"
      ]
    },
    {
      "cell_type": "code",
      "metadata": {
        "id": "76koWfNtOEtJ",
        "colab_type": "code",
        "outputId": "2fa82f65-068d-4377-af88-7ac06e2ea9c6",
        "colab": {
          "base_uri": "https://localhost:8080/",
          "height": 337
        }
      },
      "source": [
        "from sklearn import linear_model\n",
        "\n",
        "regr = linear_model.LinearRegression()\n",
        "regr.fit(X_train, y_train)\n",
        "print('Score: ', regr.score(X_test, y_test))\n",
        "print('Weights: ', regr.coef_)\n",
        "\n",
        "plt.plot(regr.predict(X_test[::10]), color=\"orange\")\n",
        "plt.plot(y_test[::10], color=\"blue\")\n",
        "plt.show()"
      ],
      "execution_count": 176,
      "outputs": [
        {
          "output_type": "stream",
          "text": [
            "Score:  0.7508582235962915\n",
            "Weights:  [   269.96658188    363.34919683    407.79662064    104.50059831\n",
            "   -104.50059831 -11874.89623958  11874.89623958    672.49050954\n",
            "    189.08029235   -700.53785191   -161.03294998]\n"
          ],
          "name": "stdout"
        },
        {
          "output_type": "display_data",
          "data": {
            "image/png": "[encoded data removed]",
            "text/plain": [
              "<Figure size 432x288 with 1 Axes>"
            ]
          },
          "metadata": {
            "tags": [],
            "needs_background": "light"
          }
        }
      ]
    },
    {
      "cell_type": "markdown",
      "metadata": {
        "id": "KVDqexbaFbi-",
        "colab_type": "text"
      },
      "source": [
        "### ridge regression"
      ]
    },
    {
      "cell_type": "code",
      "metadata": {
        "id": "5nJ6GQRDDinx",
        "colab_type": "code",
        "colab": {
          "base_uri": "https://localhost:8080/",
          "height": 337
        },
        "outputId": "946a20b8-f626-4d59-a13c-cad08e174cf3"
      },
      "source": [
        "from sklearn import linear_model\n",
        "\n",
        "regr = linear_model.Ridge (alpha = .05)\n",
        "regr.fit(X_train, y_train)\n",
        "print('Score: ', regr.score(X_test, y_test))\n",
        "print('Weights: ', regr.coef_)\n",
        "\n",
        "plt.plot(regr.predict(X_test[::10]), color=\"orange\")\n",
        "plt.plot(y_test[::10], color=\"blue\")\n",
        "plt.show()"
      ],
      "execution_count": 180,
      "outputs": [
        {
          "output_type": "stream",
          "text": [
            "Score:  0.7508548478496051\n",
            "Weights:  [   269.96422458    363.34092666    407.7966947     104.41070237\n",
            "   -104.41070238 -11873.20017943  11873.20017961    672.38009065\n",
            "    189.01572217   -700.295049     -161.10076382]\n"
          ],
          "name": "stdout"
        },
        {
          "output_type": "display_data",
          "data": {
            "image/png": "[encoded data removed]",
            "text/plain": [
              "<Figure size 432x288 with 1 Axes>"
            ]
          },
          "metadata": {
            "tags": [],
            "needs_background": "light"
          }
        }
      ]
    },
    {
      "cell_type": "markdown",
      "metadata": {
        "id": "sX-L2oHfIsXe",
        "colab_type": "text"
      },
      "source": [
        "### Compare ridge and linear regressions"
      ]
    },
    {
      "cell_type": "code",
      "metadata": {
        "id": "LRNXFMfHF-Zz",
        "colab_type": "code",
        "colab": {
          "base_uri": "https://localhost:8080/",
          "height": 215
        },
        "outputId": "45563eb2-3634-4462-91dd-1c25381ae360"
      },
      "source": [
        "scores = []\n",
        "coefs = []\n",
        "for i in range(1000):\n",
        "    X_train, X_test, y_train, y_test = train_test_split(X, y, test_size=0.20, shuffle= True)\n",
        "    lineReg = linear_model.LinearRegression()\n",
        "    lineReg.fit(X_train, y_train)\n",
        "    scores.append(lineReg.score(X_test, y_test))\n",
        "    coefs.append(lineReg.coef_)\n",
        "print('Linear Regression')\n",
        "print(np.mean(scores))\n",
        "print(np.mean(coefs, axis=0))\n",
        "\n",
        "scores = []\n",
        "coefs = []\n",
        "for i in range(1000):\n",
        "    X_train, X_test, y_train, y_test = train_test_split(X, y, test_size=0.20, shuffle= True)\n",
        "    lineReg = linear_model.Ridge (alpha = .01)\n",
        "    lineReg.fit(X_train, y_train)\n",
        "    scores.append(lineReg.score(X_test, y_test))\n",
        "    coefs.append(lineReg.coef_)\n",
        "print('\\nRidge Regression')\n",
        "print(np.mean(scores))\n",
        "print(np.mean(coefs, axis=0))"
      ],
      "execution_count": 173,
      "outputs": [
        {
          "output_type": "stream",
          "text": [
            "Linear Regression\n",
            "0.7444876701438183\n",
            "[   257.23330153    338.34631276    477.71310168     64.23032664\n",
            "    -64.23032664 -11921.77119127  11921.77119127    589.8587901\n",
            "    236.52267845   -444.84174958   -381.53971897]\n",
            "\n",
            "Ridge Regression\n",
            "0.7423693522153715\n",
            "[   256.56617212    338.72545127    475.62954347     66.35815391\n",
            "    -66.35815391 -11922.11518131  11922.11518132    587.88930312\n",
            "    231.70945882   -440.31623346   -379.28252847]\n"
          ],
          "name": "stdout"
        }
      ]
    },
    {
      "cell_type": "markdown",
      "metadata": {
        "id": "grFc0JoSI8mU",
        "colab_type": "text"
      },
      "source": [
        "# **Test result**"
      ]
    },
    {
      "cell_type": "code",
      "metadata": {
        "id": "cdeQxVGSGyVj",
        "colab_type": "code",
        "colab": {
          "base_uri": "https://localhost:8080/",
          "height": 35
        },
        "outputId": "5614a4a3-e038-4ae3-d72a-c7f69ea0da7b"
      },
      "source": [
        "regr.predict([[60, 28, 0, 1, 0, 0, 1, 0, 0,\t0, 1]])"
      ],
      "execution_count": 181,
      "outputs": [
        {
          "output_type": "execute_result",
          "data": {
            "text/plain": [
              "array([36349.64209565])"
            ]
          },
          "metadata": {
            "tags": []
          },
          "execution_count": 181
        }
      ]
    }
  ]
}