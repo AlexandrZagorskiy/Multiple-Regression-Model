{
  "nbformat": 4,
  "nbformat_minor": 0,
  "metadata": {
    "colab": {
      "name": "HID.ipynb",
      "provenance": [],
      "authorship_tag": "ABX9TyNr9zRP6+6YfHy64OFpQUFU",
      "include_colab_link": true
    },
    "kernelspec": {
      "name": "python3",
      "display_name": "Python 3"
    }
  },
  "cells": [
    {
      "cell_type": "markdown",
      "metadata": {
        "id": "view-in-github",
        "colab_type": "text"
      },
      "source": [
        "<a href=\"https://colab.research.google.com/github/Finger228/Health-Insurance-Dataset/blob/master/HID.ipynb\" target=\"_parent\"><img src=\"https://colab.research.google.com/assets/colab-badge.svg\" alt=\"Open In Colab\"/></a>"
      ]
    },
    {
      "cell_type": "markdown",
      "metadata": {
        "id": "kHJMNnomhpf6",
        "colab_type": "text"
      },
      "source": [
        "Health Insurance Dataset\n",
        "\n",
        "Task:\n",
        "- Build a model that predicts \"charges\" for a given person based on their features.\n",
        "- Evaluate the quality of your model.\n",
        "- Identify the factors with the highest impact.\n",
        "\n",
        "Expected result - link to a GitHub repo with:\n",
        "- Code for the solution (any programming language, Python or R preferred).\n",
        "- Brief summary of the solution*: what did you do, which steps did you make, how to interpret the results."
      ]
    },
    {
      "cell_type": "markdown",
      "metadata": {
        "id": "dah9xiD9WOIY",
        "colab_type": "text"
      },
      "source": [
        "# **Preparing data**"
      ]
    },
    {
      "cell_type": "markdown",
      "metadata": {
        "id": "i1LN5-RFWy10",
        "colab_type": "text"
      },
      "source": [
        "### download data from github repo"
      ]
    },
    {
      "cell_type": "markdown",
      "metadata": {
        "id": "qE95OVPcgFRF",
        "colab_type": "text"
      },
      "source": [
        "I load dataset to github repo, so you can easily download it to colab. Let's check length and first fields of given dataset."
      ]
    },
    {
      "cell_type": "code",
      "metadata": {
        "id": "h5q2C7BZgDMd",
        "colab_type": "code",
        "outputId": "05677d7d-28a6-4c0b-9864-56c0b180a3a7",
        "colab": {
          "base_uri": "https://localhost:8080/",
          "height": 222
        }
      },
      "source": [
        "import pandas as pd\n",
        "import matplotlib.pyplot as plt\n",
        "import numpy as np\n",
        "\n",
        "url = 'https://raw.githubusercontent.com/Finger228/Health-Insurance-Dataset/master/insurance.csv'\n",
        "data = pd.read_csv(url)\n",
        "print(len(data))\n",
        "data.head()"
      ],
      "execution_count": 1,
      "outputs": [
        {
          "output_type": "stream",
          "text": [
            "1338\n"
          ],
          "name": "stdout"
        },
        {
          "output_type": "execute_result",
          "data": {
            "text/html": [
              "<div>\n",
              "<style scoped>\n",
              "    .dataframe tbody tr th:only-of-type {\n",
              "        vertical-align: middle;\n",
              "    }\n",
              "\n",
              "    .dataframe tbody tr th {\n",
              "        vertical-align: top;\n",
              "    }\n",
              "\n",
              "    .dataframe thead th {\n",
              "        text-align: right;\n",
              "    }\n",
              "</style>\n",
              "<table border=\"1\" class=\"dataframe\">\n",
              "  <thead>\n",
              "    <tr style=\"text-align: right;\">\n",
              "      <th></th>\n",
              "      <th>age</th>\n",
              "      <th>sex</th>\n",
              "      <th>bmi</th>\n",
              "      <th>children</th>\n",
              "      <th>smoker</th>\n",
              "      <th>region</th>\n",
              "      <th>charges</th>\n",
              "    </tr>\n",
              "  </thead>\n",
              "  <tbody>\n",
              "    <tr>\n",
              "      <th>0</th>\n",
              "      <td>19</td>\n",
              "      <td>female</td>\n",
              "      <td>27.900</td>\n",
              "      <td>0</td>\n",
              "      <td>yes</td>\n",
              "      <td>southwest</td>\n",
              "      <td>16884.92400</td>\n",
              "    </tr>\n",
              "    <tr>\n",
              "      <th>1</th>\n",
              "      <td>18</td>\n",
              "      <td>male</td>\n",
              "      <td>33.770</td>\n",
              "      <td>1</td>\n",
              "      <td>no</td>\n",
              "      <td>southeast</td>\n",
              "      <td>1725.55230</td>\n",
              "    </tr>\n",
              "    <tr>\n",
              "      <th>2</th>\n",
              "      <td>28</td>\n",
              "      <td>male</td>\n",
              "      <td>33.000</td>\n",
              "      <td>3</td>\n",
              "      <td>no</td>\n",
              "      <td>southeast</td>\n",
              "      <td>4449.46200</td>\n",
              "    </tr>\n",
              "    <tr>\n",
              "      <th>3</th>\n",
              "      <td>33</td>\n",
              "      <td>male</td>\n",
              "      <td>22.705</td>\n",
              "      <td>0</td>\n",
              "      <td>no</td>\n",
              "      <td>northwest</td>\n",
              "      <td>21984.47061</td>\n",
              "    </tr>\n",
              "    <tr>\n",
              "      <th>4</th>\n",
              "      <td>32</td>\n",
              "      <td>male</td>\n",
              "      <td>28.880</td>\n",
              "      <td>0</td>\n",
              "      <td>no</td>\n",
              "      <td>northwest</td>\n",
              "      <td>3866.85520</td>\n",
              "    </tr>\n",
              "  </tbody>\n",
              "</table>\n",
              "</div>"
            ],
            "text/plain": [
              "   age     sex     bmi  children smoker     region      charges\n",
              "0   19  female  27.900         0    yes  southwest  16884.92400\n",
              "1   18    male  33.770         1     no  southeast   1725.55230\n",
              "2   28    male  33.000         3     no  southeast   4449.46200\n",
              "3   33    male  22.705         0     no  northwest  21984.47061\n",
              "4   32    male  28.880         0     no  northwest   3866.85520"
            ]
          },
          "metadata": {
            "tags": []
          },
          "execution_count": 1
        }
      ]
    },
    {
      "cell_type": "markdown",
      "metadata": {
        "id": "P0VnqHbQXDQI",
        "colab_type": "text"
      },
      "source": [
        "### preparing data"
      ]
    },
    {
      "cell_type": "markdown",
      "metadata": {
        "id": "t9c_1iNOgouv",
        "colab_type": "text"
      },
      "source": [
        "First of all lets identify missing values in given dataset.\n"
      ]
    },
    {
      "cell_type": "code",
      "metadata": {
        "id": "Yb7A-pt9W_p1",
        "colab_type": "code",
        "outputId": "3d601eed-f3d9-4784-8c17-aff886557512",
        "colab": {
          "base_uri": "https://localhost:8080/",
          "height": 161
        }
      },
      "source": [
        "from sklearn.preprocessing import OneHotEncoder\n",
        "\n",
        "# checking for miss values\n",
        "print(data.isnull().sum())"
      ],
      "execution_count": 2,
      "outputs": [
        {
          "output_type": "stream",
          "text": [
            "age         0\n",
            "sex         0\n",
            "bmi         0\n",
            "children    0\n",
            "smoker      0\n",
            "region      0\n",
            "charges     0\n",
            "dtype: int64\n"
          ],
          "name": "stdout"
        }
      ]
    },
    {
      "cell_type": "markdown",
      "metadata": {
        "id": "Gqioua9zg1TD",
        "colab_type": "text"
      },
      "source": [
        "As you can see there no any NaN values.\n",
        "\n",
        "---\n",
        "\n",
        "Now we should handle categorical data. I use *get_dummies* function for that purpose. Than we can see how the features are correlated."
      ]
    },
    {
      "cell_type": "code",
      "metadata": {
        "id": "mQMNzdWbBVBT",
        "colab_type": "code",
        "outputId": "6d1d4fb3-8bc4-4735-8cfc-db0e7cf672f1",
        "colab": {
          "base_uri": "https://localhost:8080/",
          "height": 333
        }
      },
      "source": [
        "df = pd.get_dummies(data)\n",
        "\n",
        "# some data vizualizing\n",
        "plt.matshow(df.corr())\n",
        "plt.xticks(np.arange(12), df.columns, rotation=90)\n",
        "plt.yticks(np.arange(12), df.columns, rotation=0)\n",
        "plt.colorbar()\n",
        "plt.show()\n"
      ],
      "execution_count": 3,
      "outputs": [
        {
          "output_type": "display_data",
          "data": {
            "image/png": "[encoded data removed]",
            "text/plain": [
              "<Figure size 288x288 with 2 Axes>"
            ]
          },
          "metadata": {
            "tags": [],
            "needs_background": "light"
          }
        }
      ]
    },
    {
      "cell_type": "markdown",
      "metadata": {
        "id": "gLYvOUZ-idw5",
        "colab_type": "text"
      },
      "source": [
        "We interested in correlation of charges. As we can see, most impact value is smoker column. We will confirm it in future by training model."
      ]
    },
    {
      "cell_type": "markdown",
      "metadata": {
        "id": "rV11M_nbeqFk",
        "colab_type": "text"
      },
      "source": [
        "### normalize data"
      ]
    },
    {
      "cell_type": "markdown",
      "metadata": {
        "id": "vu_8v3daj-lH",
        "colab_type": "text"
      },
      "source": [
        "Let's bring features onto the same scale. I use normalization, or min-max scaling. "
      ]
    },
    {
      "cell_type": "code",
      "metadata": {
        "id": "YLdEOT_MetwY",
        "colab_type": "code",
        "outputId": "74021725-528a-4f33-bf68-56f9cb357aca",
        "colab": {
          "base_uri": "https://localhost:8080/",
          "height": 143
        }
      },
      "source": [
        "from sklearn.preprocessing import MinMaxScaler\n",
        "mms = MinMaxScaler()\n",
        "df_norm = mms.fit_transform(df)\n",
        "print(df_norm)\n"
      ],
      "execution_count": 4,
      "outputs": [
        {
          "output_type": "stream",
          "text": [
            "[[0.02173913 0.3212268  0.         ... 0.         0.         1.        ]\n",
            " [0.         0.47914985 0.2        ... 0.         1.         0.        ]\n",
            " [0.2173913  0.45843422 0.6        ... 0.         1.         0.        ]\n",
            " ...\n",
            " [0.         0.56201238 0.         ... 0.         1.         0.        ]\n",
            " [0.06521739 0.26472962 0.         ... 0.         0.         1.        ]\n",
            " [0.93478261 0.35270379 0.         ... 1.         0.         0.        ]]\n"
          ],
          "name": "stdout"
        }
      ]
    },
    {
      "cell_type": "markdown",
      "metadata": {
        "id": "uaUm7sOKXR0W",
        "colab_type": "text"
      },
      "source": [
        "# **Train and test datasets**"
      ]
    },
    {
      "cell_type": "markdown",
      "metadata": {
        "id": "_Y9Q5SbVlcL-",
        "colab_type": "text"
      },
      "source": [
        "Given dataset not large, so I chouce 80:20 split for train and test datasets. You can experiment with different features for predicting charges. Smoker feature is most impact, so we can compare model train by only smoker feature with model train by all features. There is examples of different train and test datasets."
      ]
    },
    {
      "cell_type": "markdown",
      "metadata": {
        "id": "aHmt0vk0WqTo",
        "colab_type": "text"
      },
      "source": [
        "### train by all features"
      ]
    },
    {
      "cell_type": "code",
      "metadata": {
        "id": "CYjzpCERskTa",
        "colab_type": "code",
        "colab": {
          "base_uri": "https://localhost:8080/",
          "height": 53
        },
        "outputId": "d758878e-0c9d-43a1-a62e-d233a3bc19a3"
      },
      "source": [
        "from sklearn.model_selection import train_test_split\n",
        "X, y = df.drop(columns=['charges']).values, df.iloc[:, 3].values\n",
        "X_train, X_test, y_train, y_test = train_test_split(X, y, test_size=0.2, random_state=42)\n",
        "X_train[0]"
      ],
      "execution_count": 20,
      "outputs": [
        {
          "output_type": "execute_result",
          "data": {
            "text/plain": [
              "array([46.  , 19.95,  2.  ,  1.  ,  0.  ,  1.  ,  0.  ,  0.  ,  1.  ,\n",
              "        0.  ,  0.  ])"
            ]
          },
          "metadata": {
            "tags": []
          },
          "execution_count": 20
        }
      ]
    },
    {
      "cell_type": "markdown",
      "metadata": {
        "id": "VT0JajTLX74W",
        "colab_type": "text"
      },
      "source": [
        "### train by smoker feature"
      ]
    },
    {
      "cell_type": "code",
      "metadata": {
        "id": "PoV3dfNAWwZh",
        "colab_type": "code",
        "colab": {
          "base_uri": "https://localhost:8080/",
          "height": 35
        },
        "outputId": "87703c5f-ea5a-409d-ac3c-e01cb68e1205"
      },
      "source": [
        "from sklearn.model_selection import train_test_split\n",
        "X, y = df.iloc[:, 6:8].values, df.iloc[:, 3].values\n",
        "X_train, X_test, y_train, y_test = train_test_split(X, y, test_size=0.2, random_state=42)\n",
        "X_train[0]"
      ],
      "execution_count": 24,
      "outputs": [
        {
          "output_type": "execute_result",
          "data": {
            "text/plain": [
              "array([1, 0], dtype=uint8)"
            ]
          },
          "metadata": {
            "tags": []
          },
          "execution_count": 24
        }
      ]
    },
    {
      "cell_type": "markdown",
      "metadata": {
        "id": "wryq-A1HY_-K",
        "colab_type": "text"
      },
      "source": [
        "### train by all features without smoker"
      ]
    },
    {
      "cell_type": "code",
      "metadata": {
        "id": "xmVhjEv6ZC9f",
        "colab_type": "code",
        "colab": {
          "base_uri": "https://localhost:8080/",
          "height": 35
        },
        "outputId": "28edc3a4-0682-48d8-9183-997926ac3d10"
      },
      "source": [
        "from sklearn.model_selection import train_test_split\n",
        "X, y = df.drop(columns=['charges', 'smoker_no', 'smoker_yes']).values, df.iloc[:, 3].values\n",
        "X_train, X_test, y_train, y_test = train_test_split(X, y, test_size=0.2, random_state=42)\n",
        "X_train[0]"
      ],
      "execution_count": 46,
      "outputs": [
        {
          "output_type": "execute_result",
          "data": {
            "text/plain": [
              "array([46.  , 19.95,  2.  ,  1.  ,  0.  ,  0.  ,  1.  ,  0.  ,  0.  ])"
            ]
          },
          "metadata": {
            "tags": []
          },
          "execution_count": 46
        }
      ]
    },
    {
      "cell_type": "markdown",
      "metadata": {
        "id": "IPM3JexxCU-A",
        "colab_type": "text"
      },
      "source": [
        "# **Predictive model**"
      ]
    },
    {
      "cell_type": "markdown",
      "metadata": {
        "id": "NuTCraKWegK8",
        "colab_type": "text"
      },
      "source": [
        "We need to predict numerical variable(charges), so we need a regression model. I use Multiple Linear Regression because of we have more than one independent variable."
      ]
    },
    {
      "cell_type": "markdown",
      "metadata": {
        "id": "usXBN_f0CpTA",
        "colab_type": "text"
      },
      "source": [
        "### Standard linear regression"
      ]
    },
    {
      "cell_type": "markdown",
      "metadata": {
        "id": "2D6F7xt_4O_i",
        "colab_type": "text"
      },
      "source": [
        "Ordinary least squares Linear Regression."
      ]
    },
    {
      "cell_type": "code",
      "metadata": {
        "id": "76koWfNtOEtJ",
        "colab_type": "code",
        "outputId": "d4ed2b4d-60af-48c6-a85a-947944c7f8f0",
        "colab": {
          "base_uri": "https://localhost:8080/",
          "height": 337
        }
      },
      "source": [
        "from sklearn import linear_model\n",
        "\n",
        "regr = linear_model.LinearRegression()\n",
        "regr.fit(X_train, y_train)\n",
        "print('Score: ', regr.score(X_test, y_test))\n",
        "print('Weights: ', regr.coef_)\n",
        "\n",
        "plt.plot(regr.predict(X_test[::10]), color=\"orange\")\n",
        "plt.plot(y_test[::10], color=\"blue\")\n",
        "plt.show()"
      ],
      "execution_count": 6,
      "outputs": [
        {
          "output_type": "stream",
          "text": [
            "Score:  0.7835929767120723\n",
            "Weights:  [ 2.56975706e+02  3.37092552e+02  4.25278784e+02  9.29584582e+00\n",
            " -9.29584582e+00 -1.18255644e+04  1.18255644e+04  4.59585244e+02\n",
            "  8.89079180e+01 -1.98279052e+02 -3.50214110e+02]\n"
          ],
          "name": "stdout"
        },
        {
          "output_type": "display_data",
          "data": {
            "image/png": "[encoded data removed]",
            "text/plain": [
              "<Figure size 432x288 with 1 Axes>"
            ]
          },
          "metadata": {
            "tags": [],
            "needs_background": "light"
          }
        }
      ]
    },
    {
      "cell_type": "markdown",
      "metadata": {
        "id": "KVDqexbaFbi-",
        "colab_type": "text"
      },
      "source": [
        "### ridge regression"
      ]
    },
    {
      "cell_type": "markdown",
      "metadata": {
        "id": "EFPByFGz31Gv",
        "colab_type": "text"
      },
      "source": [
        "least squares Linear Regression with l2 regularization."
      ]
    },
    {
      "cell_type": "code",
      "metadata": {
        "id": "5nJ6GQRDDinx",
        "colab_type": "code",
        "outputId": "da6c643c-1370-4d24-b7c2-c4d37c275a3d",
        "colab": {
          "base_uri": "https://localhost:8080/",
          "height": 337
        }
      },
      "source": [
        "from sklearn import linear_model\n",
        "\n",
        "regr = linear_model.Ridge (alpha = .05)\n",
        "regr.fit(X_train, y_train)\n",
        "print('Score: ', regr.score(X_test, y_test))\n",
        "print('Weights: ', regr.coef_)\n",
        "\n",
        "plt.plot(regr.predict(X_test[::10]), color=\"orange\")\n",
        "plt.plot(y_test[::10], color=\"blue\")\n",
        "plt.show()"
      ],
      "execution_count": 7,
      "outputs": [
        {
          "output_type": "stream",
          "text": [
            "Score:  0.7835857633162266\n",
            "Weights:  [ 2.56970873e+02  3.37087884e+02  4.25285695e+02  9.19575435e+00\n",
            " -9.19575435e+00 -1.18238536e+04  1.18238536e+04  4.59519087e+02\n",
            "  8.88111587e+01 -1.98110226e+02 -3.50220020e+02]\n"
          ],
          "name": "stdout"
        },
        {
          "output_type": "display_data",
          "data": {
            "image/png": "[encoded data removed]",
            "text/plain": [
              "<Figure size 432x288 with 1 Axes>"
            ]
          },
          "metadata": {
            "tags": [],
            "needs_background": "light"
          }
        }
      ]
    },
    {
      "cell_type": "markdown",
      "metadata": {
        "id": "-f2_4d3b2kok",
        "colab_type": "text"
      },
      "source": [
        "Example models trained by all features \n",
        "\n",
        "---\n",
        "\n",
        "\n",
        "### As we can see, weights of **smoker features** give the most impact in models.\n",
        "\n",
        "---\n",
        "\n",
        "To get a better idea of the actual results, let's split the data over and over again to get different models and get the average of their scores. Train and test model with only smoker feature."
      ]
    },
    {
      "cell_type": "code",
      "metadata": {
        "id": "LRNXFMfHF-Zz",
        "colab_type": "code",
        "outputId": "34232141-2dc1-4fda-f48a-fbed37caf6a3",
        "colab": {
          "base_uri": "https://localhost:8080/",
          "height": 143
        }
      },
      "source": [
        "scores = []\n",
        "coefs = []\n",
        "for i in range(1000):\n",
        "    X_train, X_test, y_train, y_test = train_test_split(X, y, test_size=0.20, shuffle= True)\n",
        "    regr = linear_model.LinearRegression()\n",
        "    regr.fit(X_train, y_train)\n",
        "    scores.append(regr.score(X_test, y_test))\n",
        "    coefs.append(regr.coef_)\n",
        "print('Linear Regression')\n",
        "print(np.mean(scores))\n",
        "print(np.mean(coefs, axis=0))\n",
        "\n",
        "scores = []\n",
        "coefs = []\n",
        "for i in range(1000):\n",
        "    X_train, X_test, y_train, y_test = train_test_split(X, y, test_size=0.20, shuffle= True)\n",
        "    regr = linear_model.Ridge (alpha = .5)\n",
        "    regr.fit(X_train, y_train)\n",
        "    scores.append(regr.score(X_test, y_test))\n",
        "    coefs.append(regr.coef_)\n",
        "print('\\nRidge Regression')\n",
        "print(np.mean(scores))\n",
        "print(np.mean(coefs, axis=0))"
      ],
      "execution_count": 25,
      "outputs": [
        {
          "output_type": "stream",
          "text": [
            "Linear Regression\n",
            "0.614475956281975\n",
            "[-3.900563e+15 -3.900563e+15]\n",
            "\n",
            "Ridge Regression\n",
            "0.6161222026412081\n",
            "[-11785.62973414  11785.62973414]\n"
          ],
          "name": "stdout"
        }
      ]
    },
    {
      "cell_type": "markdown",
      "metadata": {
        "id": "3gicmdtt484R",
        "colab_type": "text"
      },
      "source": [
        "### Compare models train by datasets consists of all features and without smoker feature"
      ]
    },
    {
      "cell_type": "code",
      "metadata": {
        "id": "8eDh_w_H5PSy",
        "colab_type": "code",
        "colab": {
          "base_uri": "https://localhost:8080/",
          "height": 639
        },
        "outputId": "37e61cb7-feea-4144-b111-bd8869418769"
      },
      "source": [
        "from sklearn import linear_model\n",
        "\n",
        "X, y = df.drop(columns=['charges']).values, df.iloc[:, 3].values\n",
        "X_train, X_test, y_train, y_test = train_test_split(X, y, test_size=0.2, random_state=322)\n",
        "\n",
        "regr = linear_model.LinearRegression()\n",
        "regr.fit(X_train, y_train)\n",
        "print('Score: ', regr.score(X_test, y_test))\n",
        "print('Weights: ', regr.coef_)\n",
        "\n",
        "plt.plot(regr.predict(X_test[::10]), color=\"orange\")\n",
        "plt.plot(y_test[::10], color=\"blue\")\n",
        "plt.show()\n",
        "\n",
        "\n",
        "X, y = df.drop(columns=['charges', 'smoker_no', 'smoker_yes']).values, df.iloc[:, 3].values\n",
        "X_train, X_test, y_train, y_test = train_test_split(X, y, test_size=0.2, random_state=322)\n",
        "\n",
        "regr = linear_model.LinearRegression()\n",
        "regr.fit(X_train, y_train)\n",
        "print('Score: ', regr.score(X_test, y_test))\n",
        "print('Weights: ', regr.coef_)\n",
        "\n",
        "plt.plot(regr.predict(X_test[::10]), color=\"orange\")\n",
        "plt.plot(y_test[::10], color=\"blue\")\n",
        "plt.show()"
      ],
      "execution_count": 18,
      "outputs": [
        {
          "output_type": "stream",
          "text": [
            "Score:  0.6986481931197364\n",
            "Weights:  [ 2.56291776e+02  3.36903400e+02  4.40743571e+02  1.55068123e+02\n",
            " -1.55068123e+02 -1.19979221e+04  1.19979221e+04  4.28007867e+02\n",
            "  1.93164580e+01 -4.42671947e+02 -4.65237766e+00]\n"
          ],
          "name": "stdout"
        },
        {
          "output_type": "display_data",
          "data": {
            "image/png": "[encoded data removed]",
            "text/plain": [
              "<Figure size 432x288 with 1 Axes>"
            ]
          },
          "metadata": {
            "tags": [],
            "needs_background": "light"
          }
        },
        {
          "output_type": "stream",
          "text": [
            "Score:  0.05090069747046133\n",
            "Weights:  [ 261.40366946  316.76763062  616.76739514 -524.12670001  524.12670001\n",
            "  856.26875035 -993.21145505  744.64069272 -607.69798802]\n"
          ],
          "name": "stdout"
        },
        {
          "output_type": "display_data",
          "data": {
            "image/png": "[encoded data removed]",
            "text/plain": [
              "<Figure size 432x288 with 1 Axes>"
            ]
          },
          "metadata": {
            "tags": [],
            "needs_background": "light"
          }
        }
      ]
    },
    {
      "cell_type": "markdown",
      "metadata": {
        "id": "grFc0JoSI8mU",
        "colab_type": "text"
      },
      "source": [
        "# **Test result**"
      ]
    },
    {
      "cell_type": "markdown",
      "metadata": {
        "id": "phX8ZHkP1Gns",
        "colab_type": "text"
      },
      "source": [
        "You can test model by your numbers:"
      ]
    },
    {
      "cell_type": "code",
      "metadata": {
        "id": "cdeQxVGSGyVj",
        "colab_type": "code",
        "outputId": "bfddde1b-d61c-4e01-b193-7519725f123b",
        "colab": {
          "base_uri": "https://localhost:8080/",
          "height": 35
        }
      },
      "source": [
        "regr.predict([[60, 28, 0, 1, 0, 0, 1, 0, 0,\t0, 1]])"
      ],
      "execution_count": 12,
      "outputs": [
        {
          "output_type": "execute_result",
          "data": {
            "text/plain": [
              "array([35764.31870714])"
            ]
          },
          "metadata": {
            "tags": []
          },
          "execution_count": 12
        }
      ]
    },
    {
      "cell_type": "markdown",
      "metadata": {
        "id": "YTrxmp6o6nhD",
        "colab_type": "text"
      },
      "source": [
        "# **Summary**"
      ]
    },
    {
      "cell_type": "markdown",
      "metadata": {
        "id": "FLCFquhm8eBx",
        "colab_type": "text"
      },
      "source": [
        "In final, we have model with score ~75% that can predict charges by all given features. As an alternative, we also have model with score ~60% that can predict charges only by smoker feature. "
      ]
    }
  ]
}